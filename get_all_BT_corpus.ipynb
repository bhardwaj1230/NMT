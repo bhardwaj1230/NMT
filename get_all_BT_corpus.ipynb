{
  "nbformat": 4,
  "nbformat_minor": 0,
  "metadata": {
    "colab": {
      "name": "get_all_BT_corpus.ipynb",
      "version": "0.3.2",
      "provenance": [],
      "collapsed_sections": [],
      "include_colab_link": true
    },
    "kernelspec": {
      "name": "python3",
      "display_name": "Python 3"
    }
  },
  "cells": [
    {
      "cell_type": "markdown",
      "metadata": {
        "id": "view-in-github",
        "colab_type": "text"
      },
      "source": [
        "<a href=\"https://colab.research.google.com/github/bhardwaj1230/NMT/blob/master/get_all_BT_corpus.ipynb\" target=\"_parent\"><img src=\"https://colab.research.google.com/assets/colab-badge.svg\" alt=\"Open In Colab\"/></a>"
      ]
    },
    {
      "cell_type": "code",
      "metadata": {
        "id": "Iy0VIzVWiyVX",
        "colab_type": "code",
        "colab": {}
      },
      "source": [
        ""
      ],
      "execution_count": 0,
      "outputs": []
    },
    {
      "cell_type": "code",
      "metadata": {
        "id": "OSJ5t8Smj8wv",
        "colab_type": "code",
        "colab": {}
      },
      "source": [
        "import re\n",
        "from tqdm import tqdm\n",
        "import os\n",
        "import pickle\n",
        "import pandas as pd\n",
        "import random\n",
        "\n",
        "destination = ['ALIGNMENT-QUALITY', 'MISALIGNED', 'QUALITY'] \n",
        "\n",
        "for l in destination:\n",
        "    \n",
        "    location = '/srv/gluster/mtp_shared/corpora/BtB/MegaCorpus_2019-02-14/corpus_renamed/'+str(l)\n",
        "    loc=[]\n",
        "    for path, subdirs, files in tqdm(os.walk(location)):\n",
        "        for name in files:\n",
        "            loc.append(os.path.join(path, name))\n",
        "\n",
        "    new_loc=[]\n",
        "    print('\\n # Location : ',l,' : ', len(loc))\n",
        "    for item in tqdm(loc):\n",
        "        if item[-2:] == 'en' or item[-2:] == 'fr':\n",
        "            new_loc.append(item)\n",
        "\n",
        "    with open('/srv/gluster/users/bhardwajs/en_fr_data/data/complete_flagged/all_loc.en-fr', 'ab') as frp:\n",
        "        pickle.dump(new_loc,frp)\n",
        "\n",
        "\n",
        "def read_data(loc):\n",
        "    objects = []\n",
        "    with (open(loc, \"rb\")) as openfile:\n",
        "        while True:\n",
        "            try:\n",
        "                objects.append(pickle.load(openfile))\n",
        "            except EOFError:\n",
        "                break\n",
        "    return objects\n",
        "\n",
        "address = read_data(\"/srv/gluster/users/bhardwajs/en_fr_data/data/complete_flagged/all_loc.en-fr\")\n",
        "\n",
        "address = [item for ad in address for item in ad]\n",
        "address = set(address)\n",
        "locations=[]\n",
        "for item in address:\n",
        "    locations.append(item[:-2])\n",
        "\n",
        "locations = list(set(locations))\n"
      ],
      "execution_count": 0,
      "outputs": []
    },
    {
      "cell_type": "code",
      "metadata": {
        "id": "Z_0R4EYhrcMJ",
        "colab_type": "code",
        "colab": {}
      },
      "source": [
        "def get_data(loc, name):\n",
        "    \n",
        "    train_en = []\n",
        "    train_fr = []\n",
        "    counter = 0\n",
        "    \n",
        "    for en_fr in tqdm(loc):\n",
        "\n",
        "        counter = 1+counter\n",
        "        \n",
        "        if os.path.exists(en_fr+str('fr')) and os.path.exists(en_fr+str('en')):\n",
        "\n",
        "            with open(en_fr+str('fr')) as f:\n",
        "                frc = [line.strip(' \\n') for line in f]\n",
        "            train_fr.extend(frc)\n",
        "\n",
        "            with open(en_fr+str('en')) as e:\n",
        "                eng = [line.strip(' \\n') for line in e]\n",
        "            train_en.extend(eng) \n",
        "\n",
        "            if (counter % 1000==0):\n",
        "\n",
        "                if len(train_fr) == len(train_en):\n",
        "\n",
        "                    en_data = pd.DataFrame(train_en)\n",
        "                    fr_data = pd.DataFrame(train_fr)\n",
        "\n",
        "                    en_data.to_csv('/srv/gluster/users/bhardwajs/en_fr_data/data/complete_flagged/'+str(name)+'.bt-en-fr.en', header=None, index=None, mode='a')\n",
        "                    fr_data.to_csv('/srv/gluster/users/bhardwajs/en_fr_data/data/complete_flagged/'+str(name)+'.bt-en-fr.fr', header=None, index=None, mode='a')\n",
        "\n",
        "                    train_en = []\n",
        "                    train_fr = []\n",
        "                    \n",
        "    en_data = pd.DataFrame(train_en)\n",
        "    fr_data = pd.DataFrame(train_fr)\n",
        "    print('writing from here now :', len(en_data))\n",
        "    en_data.to_csv('/srv/gluster/users/bhardwajs/en_fr_data/data/complete_flagged/'+str(name)+'.bt-en-fr.en', header=None, index=None, mode='a')\n",
        "    fr_data.to_csv('/srv/gluster/users/bhardwajs/en_fr_data/data/complete_flagged/'+str(name)+'.bt-en-fr.fr', header=None, index=None, mode='a')\n",
        "\n",
        "get_data(locations, 'not_flagged')"
      ],
      "execution_count": 0,
      "outputs": []
    },
    {
      "cell_type": "code",
      "metadata": {
        "id": "xYOIml1RnGKO",
        "colab_type": "code",
        "colab": {}
      },
      "source": [
        ""
      ],
      "execution_count": 0,
      "outputs": []
    }
  ]
}