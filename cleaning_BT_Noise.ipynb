{
  "nbformat": 4,
  "nbformat_minor": 0,
  "metadata": {
    "colab": {
      "name": "cleaning_BT_Noise",
      "version": "0.3.2",
      "provenance": [],
      "collapsed_sections": [],
      "include_colab_link": true
    },
    "kernelspec": {
      "name": "python3",
      "display_name": "Python 3"
    }
  },
  "cells": [
    {
      "cell_type": "markdown",
      "metadata": {
        "id": "view-in-github",
        "colab_type": "text"
      },
      "source": [
        "<a href=\"https://colab.research.google.com/github/bhardwaj1230/NMT/blob/master/cleaning_BT_Noise.ipynb\" target=\"_parent\"><img src=\"https://colab.research.google.com/assets/colab-badge.svg\" alt=\"Open In Colab\"/></a>"
      ]
    },
    {
      "cell_type": "code",
      "metadata": {
        "id": "cwirqMC_anmT",
        "colab_type": "code",
        "colab": {}
      },
      "source": [
        ""
      ],
      "execution_count": 0,
      "outputs": []
    },
    {
      "cell_type": "code",
      "metadata": {
        "id": "_JNaukfxa-LK",
        "colab_type": "code",
        "colab": {}
      },
      "source": [
        "from tqdm import tqdm\n",
        "import re\n",
        "import pandas as pd\n",
        "\n",
        "bad_en = '/data/rali5/Tmp/alfonsda/workRali/004tradBureau/007corpusExtraction/problematic/extracted.en'\n",
        "bad_fr = '/data/rali5/Tmp/alfonsda/workRali/004tradBureau/007corpusExtraction/problematic/extracted.fr'\n",
        "en = '/u/bhardwas/bt/bt_dump/dump/bt_train.en-fr.en'\n",
        "fr = '/u/bhardwas/bt/bt_dump/dump/bt_train.en-fr.fr'\n",
        "\n",
        "def data_load(location):\n",
        "    out = []\n",
        "    with open(location) as f:\n",
        "        data = [re.sub(r'[^\\w\\s]', '', line).strip(' \\n') for idx, line in enumerate(f)]\n",
        "        out.append(data)\n",
        "    return out    \n",
        "\n",
        "filter_fr = data_load(bad_fr)\n",
        "filter_en = data_load(bad_en)\n",
        "data_en = data_load(en)\n",
        "data_fr = data_load(fr)\n",
        "\n",
        "#filter_en = [item for sublist in filter_en[0] for item in sublist]\n",
        "#filter_fr = [item for sublist in filter_fr[0] for item in sublist]\n",
        "#data_en = [item for sublist in data_en[0] for item in sublist]\n",
        "#data_fr = [item for sublist in data_fr[0] for item in sublist]\n",
        "\n",
        "filter_en = set(filter_en[0])\n",
        "filter_fr = set(filter_fr[0])\n",
        "\n",
        "clean_en = []\n",
        "clean_fr = []\n",
        "counter = 0\n",
        "\n",
        "for to_clean_en, to_clean_fr in tqdm(zip(data_en[0], data_fr[0])):\n",
        "    if to_clean_en not in filter_en and to_clean_fr not in filter_fr:\n",
        "        clean_en.append(to_clean_en)\n",
        "        clean_fr.append(to_clean_fr)\n",
        "    else:\n",
        "        counter += 1\n",
        "        if counter % 1000000 == 0:\n",
        "            print('Number of noisy records deleted :',counter)\n",
        "\n",
        "\n",
        "clean_en = pd.DataFrame(clean_en)\n",
        "clean_fr = pd.DataFrame(clean_fr)\n",
        "\n",
        "clean_en.to_csv('/u/bhardwas/bt/bt_dump/dump/bt_clean.en-fr.en', header= None, index=None)\n",
        "clean_fr.to_csv('/u/bhardwas/bt/bt_dump/dump/bt_clean.en-fr.fr', header= None, index=None)\n"
      ],
      "execution_count": 0,
      "outputs": []
    },
    {
      "cell_type": "code",
      "metadata": {
        "id": "ScI3lV_G8Imx",
        "colab_type": "code",
        "colab": {}
      },
      "source": [
        "def join(a,b):\n",
        "    en_fr = []\n",
        "    for x,y in tqdm(zip(a,b)):\n",
        "        x = str(x)\n",
        "        y = str(y)\n",
        "        en_fr.append(' $$$$ '.join([x, y]))\n",
        "    return en_fr\n",
        "\n",
        "data = join(clean_en,clean_fr)\n",
        "data = set(data)\n",
        "\n",
        "filter_en = []\n",
        "filter_fr =[]\n",
        "data_en = []\n",
        "data_fr = []\n",
        "\n",
        "for d in data:\n",
        "    e,f = d.split(\" $$$$ \") \n",
        "    data_en.append(e) \n",
        "    data_fr.append(f) \n",
        "        \n",
        "\n",
        "data_en = pd.DataFrame(data_en)\n",
        "data_fr = pd.DataFrame(data_fr)\n",
        "\n",
        "data_en.to_csv('/u/bhardwas/bt/bt_dump/dump/bt_no_duplicate.en-fr.en', header= None, index=None)\n",
        "data_fr.to_csv('/u/bhardwas/bt/bt_dump/dump/bt_no_duplicate.en-fr.fr', header= None, index=None)\n",
        "\n",
        "##################################################################################################\n",
        "filter_en_fr = join(filter_en[0],filter_fr[0])\n",
        "data_en_fr = join(data_en[0],data_fr[0])\n",
        "\n",
        "def intersection(lst1, lst2): \n",
        "    return list(set(lst1) - set(lst2)) \n",
        "\n",
        "clean = intersection(data_en_fr , filter_en_fr)\n",
        "\n",
        "with open('/u/bhardwas/bt/bt_dump/clean/en_fr', 'ab') as data_clean:\n",
        "    pickle.dump(clean,enp)\n",
        "    "
      ],
      "execution_count": 0,
      "outputs": []
    },
    {
      "cell_type": "code",
      "metadata": {
        "id": "BywQ6HNy3iTi",
        "colab_type": "code",
        "colab": {}
      },
      "source": [
        "#Creatng super clean data\n",
        "\n",
        "filter_en = []\n",
        "filter_fr =[]\n",
        "data_en = []\n",
        "data_fr = []\n",
        "data = []\n",
        "\n",
        "en = pd.read_csv('/u/bhardwas/bt/bt_dump/dump/bt_no_noise_duplicate.en-fr.en',header=None)\n",
        "fr = pd.read_csv('/u/bhardwas/bt/bt_dump/dump/bt_no_noise_duplicate.en-fr.fr',header=None)\n",
        "\n",
        "combined = list(zip(en[0], fr[0]))\n",
        "random.shuffle(combined)\n",
        "en, fr = zip(*combined)\n",
        "combined = 0 \n",
        "\n",
        "pd.DataFrame(en[:-20000]).to_csv('/u/bhardwas/bt/bt_dump/dump/bt_train_no_noise_duplicate.en-fr.en', header=None, index=False)\n",
        "pd.DataFrame(en[-20000:-10000]).to_csv('/u/bhardwas/bt/bt_dump/dump/bt_valid_no_noise_duplicate.en-fr.en', header=None, index=False)\n",
        "pd.DataFrame(en[-10000:]).to_csv('/u/bhardwas/bt/bt_dump/dump/bt_test_no_noise_duplicate.en-fr.en', header=None, index=False)\n",
        "\n",
        "pd.DataFrame(fr[:-20000]).to_csv('/u/bhardwas/bt/bt_dump/dump/bt_train_no_noise_duplicate.en-fr.fr', header=None, index=False)\n",
        "pd.DataFrame(fr[-20000:-10000]).to_csv('/u/bhardwas/bt/bt_dump/dump/bt_valid_no_noise_duplicate.en-fr.fr', header=None, index=False)\n",
        "pd.DataFrame(fr[-10000:]).to_csv('/u/bhardwas/bt/bt_dump/dump/bt_test_no_noise_duplicate.en-fr.fr', header=None, index=False)\n"
      ],
      "execution_count": 0,
      "outputs": []
    },
    {
      "cell_type": "code",
      "metadata": {
        "id": "8IsxehNR3iGz",
        "colab_type": "code",
        "colab": {}
      },
      "source": [
        "# remove test and validation data from all three data:\n",
        "\n",
        "import pandas as pd\n",
        "from tqdm import tqdm\n",
        "\n",
        "def join(a,b):\n",
        "    en_fr = []\n",
        "    for x,y in tqdm(zip(a,b)):\n",
        "        x = str(x)\n",
        "        y = str(y)\n",
        "        en_fr.append(' $$$$ '.join([x, y]))\n",
        "    return en_fr\n",
        "\n",
        "en = pd.read_csv('/u/bhardwas/bt/bt_dump/dump/new_bt_no_noise.en-fr.en', header=None)\n",
        "fr = pd.read_csv('/u/bhardwas/bt/bt_dump/dump/new_bt_no_noise.en-fr.fr', header=None)\n",
        "\n",
        "en_fr = join(en[0],fr[0])\n",
        "en=[]\n",
        "fr=[]\n",
        "\n",
        "test_en = pd.read_csv('/u/bhardwas/bt/bt_dump/dump/super_clean_test_valid/bt_test_no_noise_duplicate.en-fr.en', header = None)\n",
        "test_fr = pd.read_csv('/u/bhardwas/bt/bt_dump/dump/super_clean_test_valid/bt_test_no_noise_duplicate.en-fr.fr', header = None)\n",
        "\n",
        "test_en_fr = join(test_en[0], test_fr[0])\n",
        "test_en_fr = set(test_en_fr)\n",
        "test_en=[]\n",
        "test_fr=[]\n",
        "\n",
        "valid_en = pd.read_csv('/u/bhardwas/bt/bt_dump/dump/super_clean_test_valid/bt_valid_no_noise_duplicate.en-fr.en', header = None)\n",
        "valid_fr = pd.read_csv('/u/bhardwas/bt/bt_dump/dump/super_clean_test_valid/bt_valid_no_noise_duplicate.en-fr.fr', header = None)\n",
        "\n",
        "valid_en_fr = join(valid_en[0],valid_fr[0])\n",
        "valid_en_fr = set(valid_en_fr)\n",
        "valid_en=[]\n",
        "valid_fr=[]\n",
        "\n",
        "data=[]\n",
        "counter = 0\n",
        "for to_clean in tqdm(en_fr):\n",
        "    if to_clean not in test_en_fr and to_clean not in valid_en_fr:\n",
        "        data.append(to_clean)\n",
        "    else:\n",
        "        counter += 1\n",
        "        if counter % 100 == 0:\n",
        "            print('Number of train records deleted :',counter)\n",
        "            \n",
        "\n",
        "            \n",
        "data_en=[]\n",
        "data_fr=[]\n",
        "\n",
        "for d in data:\n",
        "    e,f = d.split(\" $$$$ \") \n",
        "    data_en.append(e) \n",
        "    data_fr.append(f) \n",
        "        \n",
        "\n",
        "data_en = pd.DataFrame(data_en)\n",
        "data_fr = pd.DataFrame(data_fr)\n",
        "\n",
        "data_en.to_csv('/u/bhardwas/bt/bt_dump/dump/new_bt_no_noise.en-fr.en', header= None, index=None)\n",
        "data_fr.to_csv('/u/bhardwas/bt/bt_dump/dump/new_bt_no_noise.en-fr.fr', header= None, index=None)"
      ],
      "execution_count": 0,
      "outputs": []
    },
    {
      "cell_type": "code",
      "metadata": {
        "id": "InXCfcEeD3_1",
        "colab_type": "code",
        "colab": {}
      },
      "source": [
        "\n",
        "valid_en = pd.read_csv('/srv/gluster/users/bhardwajs/en_fr_data/data/test_data/super_clean_test_valid/bt_valid_no_noise_duplicate.en-fr.en', header=None)\n",
        "test_en = pd.read_csv('/srv/gluster/users/bhardwajs/en_fr_data/data/test_data/super_clean_test_valid/bt_test_no_noise_duplicate.en-fr.en', header=None)\n",
        "valid_fr = pd.read_csv('/srv/gluster/users/bhardwajs/en_fr_data/data/test_data/super_clean_test_valid/bt_valid_no_noise_duplicate.en-fr.fr', header=None)\n",
        "test_fr = pd.read_csv('/srv/gluster/users/bhardwajs/en_fr_data/data/test_data/super_clean_test_valid/bt_test_no_noise_duplicate.en-fr.fr', header=None)\n",
        "\n",
        "\n",
        "c_valid_en = pd.read_csv('/srv/gluster/users/bhardwajs/en_fr_data/data/test_data/noisy_test_valid/bt_valid.en-fr.en', header=None)\n",
        "c_test_en = pd.read_csv('/srv/gluster/users/bhardwajs/en_fr_data/data/test_data/noisy_test_valid/bt_test.en-fr.en', header=None)\n",
        "c_valid_fr = pd.read_csv('/srv/gluster/users/bhardwajs/en_fr_data/data/test_data/noisy_test_valid/bt_valid.en-fr.fr', header=None)\n",
        "c_test_fr = pd.read_csv('/srv/gluster/users/bhardwajs/en_fr_data/data/test_data/noisy_test_valid/bt_test.en-fr.fr', header=None)\n",
        "\n",
        "\n",
        "v_en = valid_en.append(c_valid_en, ignore_index=True)\n",
        "v_fr = valid_fr.append(c_valid_fr, ignore_index=True)\n",
        "\n",
        "t_en = test_en.append(c_test_en, ignore_index=True)\n",
        "t_fr = test_fr.append(c_test_fr, ignore_index=True)\n",
        "\n",
        "v_en.to_csv('/srv/gluster/users/bhardwajs/en_fr_data/data/test_data/mixed_valid.en-fr.en', header= None, index=None)\n",
        "v_fr.to_csv('/srv/gluster/users/bhardwajs/en_fr_data/data/test_data/mixed_valid.en-fr.fr', header= None, index=None)\n",
        "\n",
        "t_en.to_csv('/srv/gluster/users/bhardwajs/en_fr_data/data/test_data/mixed_test.en-fr.en', header= None, index=None)\n",
        "t_fr.to_csv('/srv/gluster/users/bhardwajs/en_fr_data/data/test_data/mixed_test.en-fr.fr', header= None, index=None)"
      ],
      "execution_count": 0,
      "outputs": []
    },
    {
      "cell_type": "code",
      "metadata": {
        "id": "t_ObhXY9D38w",
        "colab_type": "code",
        "colab": {}
      },
      "source": [
        ""
      ],
      "execution_count": 0,
      "outputs": []
    },
    {
      "cell_type": "code",
      "metadata": {
        "id": "D-WOzbj7D352",
        "colab_type": "code",
        "colab": {}
      },
      "source": [
        ""
      ],
      "execution_count": 0,
      "outputs": []
    },
    {
      "cell_type": "markdown",
      "metadata": {
        "id": "97G8FFWtnAqP",
        "colab_type": "text"
      },
      "source": [
        ""
      ]
    }
  ]
}