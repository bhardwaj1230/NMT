{
  "nbformat": 4,
  "nbformat_minor": 0,
  "metadata": {
    "colab": {
      "name": "Random_sampling_BT",
      "version": "0.3.2",
      "provenance": [],
      "collapsed_sections": [],
      "include_colab_link": true
    },
    "kernelspec": {
      "name": "python3",
      "display_name": "Python 3"
    }
  },
  "cells": [
    {
      "cell_type": "markdown",
      "metadata": {
        "id": "view-in-github",
        "colab_type": "text"
      },
      "source": [
        "<a href=\"https://colab.research.google.com/github/bhardwaj1230/NMT/blob/master/Random_sampling_BT.ipynb\" target=\"_parent\"><img src=\"https://colab.research.google.com/assets/colab-badge.svg\" alt=\"Open In Colab\"/></a>"
      ]
    },
    {
      "cell_type": "code",
      "metadata": {
        "id": "CKrMjST2GRoD",
        "colab_type": "code",
        "colab": {}
      },
      "source": [
        "import re\n",
        "from tqdm import tqdm\n",
        "import os\n",
        "import pickle\n",
        "import pandas as pd\n",
        "import random\n",
        "\n",
        "\n",
        "def read_data(loc):\n",
        "    objects = []\n",
        "    with (open(loc, \"rb\")) as openfile:\n",
        "        while True:\n",
        "            try:\n",
        "                objects.append(pickle.load(openfile))\n",
        "            except EOFError:\n",
        "                break\n",
        "    return objects\n",
        "\n",
        "en_add = read_data(\"/u/bhardwas/bt/bt_dump/all_not_flagged_location/test_address/en_location\")\n",
        "fr_add = read_data(\"/u/bhardwas/bt/bt_dump/all_not_flagged_location/test_address/fr_location\")\n",
        "\n",
        "\n",
        "sz = len(en_add) // 2\n",
        "\n",
        "en_add, fr_add = zip(*random.sample(list(zip(en_add, fr_add)), sz))\n",
        "\n",
        "rand_data = random.sample(big_word, sz)\n",
        "\n",
        "\n",
        "def get_data(fr_loc, en_loc, name):\n",
        "    \n",
        "    train_en = []\n",
        "    train_fr = []\n",
        "    counter = 0\n",
        "    \n",
        "    for fr, en in tqdm(zip(fr_loc, en_loc)):\n",
        "        \n",
        "        if fr[:-2] == en[:-2]:\n",
        "\n",
        "            counter = 1+counter\n",
        "\n",
        "            with open(fr) as f:\n",
        "                frc = [line.strip(' \\n') for idx, line in enumerate(f)]\n",
        "            train_fr.append(frc)\n",
        "\n",
        "            with open(en) as e:\n",
        "                eng = [line.strip(' \\n') for idx, line in enumerate(e)]\n",
        "            train_en.append(eng) \n",
        "\n",
        "            if (counter % 100==0):\n",
        "\n",
        "                if len(train_fr) == len(train_en):\n",
        "\n",
        "                    flat_en = [\", \".join(item) for sublist in train_en for item in sublist]\n",
        "\n",
        "                    flat_fr = [\", \".join(item) for sublist in train_fr for item in sublist]\n",
        "\n",
        "                    en_data = pd.DataFrame(flat_en)\n",
        "                    fr_data = pd.DataFrame(flat_fr)\n",
        "\n",
        "                    en_data.to_csv('/data/rali5/Tmp/shiven/not_flagged_dump/'+str(name)+'.bt-en-fr.en', header=None, index=None, mode='a')\n",
        "                    fr_data.to_csv('/data/rali5/Tmp/shiven/not_flagged_dump/'+str(name)+'.bt-en-fr.fr', header=None, index=None, mode='a')\n",
        "\n",
        "                    train_en = []\n",
        "                    train_fr = []\n",
        "\n",
        "\n",
        "get_data(fr_add, en_add, 'train')\n",
        "\n",
        "##################################################################################\n",
        "\n",
        "en = pd.read_csv('/u/bhardwas/bt/bt_dump/dump/bt_no_duplicate.en-fr.en',header=None)\n",
        "fr = pd.read_csv('/u/bhardwas/bt/bt_dump/dump/bt_no_duplicate.en-fr.fr',header=None)\n",
        "\n",
        "combined = list(zip(en[0], fr[0]))\n",
        "random.shuffle(combined)\n",
        "en, fr = zip(*combined)\n",
        "combined = 0 \n",
        "\n",
        "en = pd.DataFrame(en)\n",
        "fr = pd.DataFrame(fr)\n",
        "\n",
        "en[0][0:58856403].to_csv('/u/bhardwas/bt/bt_dump/final_data/bt_train.en-fr.en', header=None, index=False)\n",
        "fr[0][0:58856403].to_csv('/u/bhardwas/bt/bt_dump/final_data/bt_train.en-fr.fr', header=None, index=False)\n",
        "\n",
        "en[0][58856403:58866403].to_csv('/u/bhardwas/bt/bt_dump/final_data/bt_valid.en-fr.en', header=None, index=False)\n",
        "fr[0][58856403:58866403].to_csv('/u/bhardwas/bt/bt_dump/final_data/bt_valid.en-fr.fr', header=None, index=False)\n",
        "\n",
        "en[0][58866403:58876403].to_csv('/u/bhardwas/bt/bt_dump/final_data/bt_test.en-fr.en', header=None, index=False)\n",
        "fr[0][58866403:58876403].to_csv('/u/bhardwas/bt/bt_dump/final_data/bt_test.en-fr.fr', header=None, index=False)\n",
        "\n",
        "\n"
      ],
      "execution_count": 0,
      "outputs": []
    },
    {
      "cell_type": "code",
      "metadata": {
        "id": "3aGUqrCuGYwi",
        "colab_type": "code",
        "colab": {}
      },
      "source": [
        "#training corpus into multiple small samples\n",
        "\n",
        "def data_load(location):\n",
        "    out = []\n",
        "    with open(location) as f:\n",
        "        data = [line for line in f]\n",
        "        out.append(data)\n",
        "    return out    \n",
        "\n",
        "en = '/srv/gluster/users/bhardwajs/en_fr_data/bt_nonflagged_dump/clean/clean/bt_train.en-fr.en'\n",
        "fr = '/srv/gluster/users/bhardwajs/en_fr_data/bt_nonflagged_dump/clean/clean/bt_train.en-fr.fr'\n",
        "\n",
        "data_en = data_load(en)\n",
        "data_fr = data_load(fr)\n",
        "\n",
        "import pandas as pd\n",
        "import numpy as np\n",
        "\n",
        "en = pd.read_csv('/srv/gluster/users/bhardwajs/en_fr_data/bt_dump/dump/bt_train.en-fr.en',header=None)\n",
        "fr = pd.read_csv('/srv/gluster/users/bhardwajs/en_fr_data/bt_dump/dump/bt_train.en-fr.fr',header=None)\n",
        "\n",
        "l = np.array_split(np.array(en[0]),6)\n",
        "en=[]\n",
        "r = np.array_split(np.array(fr[0]),6)\n",
        "fr=[]\n",
        "\n",
        "for i in range(6):\n",
        "    pd.DataFrame(l[i]).to_csv('/srv/gluster/users/bhardwajs/en_fr_data/data/sub_samples/new_data.en-fr_'+str(i)+'.en', header=None, index=False)\n",
        "\n",
        "for i in range(6):\n",
        "    pd.DataFrame(r[i]).to_csv('/srv/gluster/users/bhardwajs/en_fr_data/data/sub_samples/new_data.en-fr_'+str(i)+'.fr', header=None, index=False)    \n",
        "    \n",
        "\n",
        "pd.DataFrame(l[0]).to_csv('/u/bhardwas/bt/bt_dump/clean/clean_sub_sample/sample_0_en-fr.en', header=None, index=False)\n",
        "pd.DataFrame(r[0]).to_csv('/u/bhardwas/bt/bt_dump/clean/clean_sub_sample/sample_0_en-fr.fr', header=None, index=False)\n",
        "\n",
        "pd.DataFrame(l[1]).to_csv('/u/bhardwas/bt/bt_dump/clean/clean_sub_sample/sample_1_en-fr.en', header=None, index=False)\n",
        "pd.DataFrame(r[1]).to_csv('/u/bhardwas/bt/bt_dump/clean/clean_sub_sample/sample_1_en-fr.fr', header=None, index=False)\n",
        "\n",
        "pd.DataFrame(l[2]).to_csv('/u/bhardwas/bt/bt_dump/clean/clean_sub_sample/sample_2_en-fr.en', header=None, index=False)\n",
        "pd.DataFrame(r[2]).to_csv('/u/bhardwas/bt/bt_dump/clean/clean_sub_sample/sample_2_en-fr.fr', header=None, index=False)\n",
        "\n",
        "pd.DataFrame(l[3]).to_csv('/u/bhardwas/bt/bt_dump/clean/clean_sub_sample/sample_3_en-fr.en', header=None, index=False)\n",
        "pd.DataFrame(r[3]).to_csv('/u/bhardwas/bt/bt_dump/clean/clean_sub_sample/sample_3_en-fr.fr', header=None, index=False)\n",
        "\n",
        "pd.DataFrame(l[4]).to_csv('/u/bhardwas/bt/bt_dump/clean/clean_sub_sample/sample_4_en-fr.en', header=None, index=False)\n",
        "pd.DataFrame(r[4]).to_csv('/u/bhardwas/bt/bt_dump/clean/clean_sub_sample/sample_4_en-fr.fr', header=None, index=False)\n",
        "\n",
        "pd.DataFrame(l[5]).to_csv('/u/bhardwas/bt/bt_dump/clean/clean_sub_sample/sample_5_en-fr.en', header=None, index=False)\n",
        "pd.DataFrame(r[5]).to_csv('/u/bhardwas/bt/bt_dump/clean/clean_sub_sample/sample_5_en-fr.fr', header=None, index=False)\n",
        "\n"
      ],
      "execution_count": 0,
      "outputs": []
    },
    {
      "cell_type": "code",
      "metadata": {
        "id": "_XECIkKxOgLL",
        "colab_type": "code",
        "colab": {}
      },
      "source": [
        ""
      ],
      "execution_count": 0,
      "outputs": []
    },
    {
      "cell_type": "code",
      "metadata": {
        "id": "J96jMzGpOgIR",
        "colab_type": "code",
        "colab": {}
      },
      "source": [
        ""
      ],
      "execution_count": 0,
      "outputs": []
    },
    {
      "cell_type": "code",
      "metadata": {
        "id": "JNg-AIv-OgFP",
        "colab_type": "code",
        "colab": {}
      },
      "source": [
        ""
      ],
      "execution_count": 0,
      "outputs": []
    },
    {
      "cell_type": "markdown",
      "metadata": {
        "id": "121e08kCOf1x",
        "colab_type": "text"
      },
      "source": [
        ""
      ]
    },
    {
      "cell_type": "markdown",
      "metadata": {
        "id": "Rd1Giv1GOfyh",
        "colab_type": "text"
      },
      "source": [
        ""
      ]
    },
    {
      "cell_type": "markdown",
      "metadata": {
        "id": "gAPBqqYlOfwi",
        "colab_type": "text"
      },
      "source": [
        ""
      ]
    },
    {
      "cell_type": "markdown",
      "metadata": {
        "id": "xVS1f36_Ofsy",
        "colab_type": "text"
      },
      "source": [
        ""
      ]
    }
  ]
}